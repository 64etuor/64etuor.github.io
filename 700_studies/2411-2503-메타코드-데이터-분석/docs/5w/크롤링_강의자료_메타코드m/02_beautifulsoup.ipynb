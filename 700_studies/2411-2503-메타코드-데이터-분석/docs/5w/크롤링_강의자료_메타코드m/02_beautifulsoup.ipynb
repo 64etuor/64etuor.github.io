{
 "cells": [
  {
   "cell_type": "markdown",
   "metadata": {},
   "source": [
    "# Web Crawling Process\n",
    "1. requests : 웹 페이지의 HTML을 requests로 가져온다.\n",
    "2. Beautifulsoup : 우리가 처리하기 쉽도록 가져온 HTML 문서를 파싱한다. <- 이번 강의에서 배울 부분!\n",
    "3. 필요한 정보를 추출하는 메서드를 사용해서 원하는 요소를 선택한다."
   ]
  },
  {
   "cell_type": "code",
   "execution_count": 1,
   "metadata": {},
   "outputs": [],
   "source": [
    "# pip install beautifulsoup4"
   ]
  },
  {
   "cell_type": "code",
   "execution_count": 2,
   "metadata": {},
   "outputs": [],
   "source": [
    "from bs4 import BeautifulSoup"
   ]
  },
  {
   "cell_type": "markdown",
   "metadata": {},
   "source": [
    "<html>\n",
    "<head>\n",
    "<title>BeautifulSoup Example</title>\n",
    "</head>\n",
    "<body>\n",
    "<h1>Web Crawling Process</h1>\n",
    "<p>1.requests : 웹 페이지의 HTML을 가져오는 역할</p>\n",
    "<p>2.Beautifulsoup : HTML 문서 파싱을 도와준다.</p>\n",
    "<p>3.원하는 요소를 선택한다.</p>\n",
    "</body>\n",
    "</html>"
   ]
  },
  {
   "cell_type": "code",
   "execution_count": 3,
   "metadata": {},
   "outputs": [],
   "source": [
    "html_doc = '''\n",
    "<html>\n",
    "<head>\n",
    "<title>BeautifulSoup Example</title>\n",
    "</head>\n",
    "<body>\n",
    "<h1>Web Crawling Process</h1>\n",
    "<p>1.requests : 웹 페이지의 HTML을 가져오는 역할</p>\n",
    "<p>2.Beautifulsoup : HTML 문서 파싱을 도와준다.</p>\n",
    "<p>3.원하는 요소를 선택한다.</p>\n",
    "</body>\n",
    "</html>\n",
    "'''"
   ]
  },
  {
   "cell_type": "code",
   "execution_count": 4,
   "metadata": {},
   "outputs": [],
   "source": [
    "soup = BeautifulSoup(html_doc, 'html.parser')"
   ]
  },
  {
   "cell_type": "code",
   "execution_count": 5,
   "metadata": {},
   "outputs": [],
   "source": [
    "title = soup.title\n",
    "heading1 = soup.h1\n",
    "paragraph = soup.p"
   ]
  },
  {
   "cell_type": "code",
   "execution_count": 11,
   "metadata": {},
   "outputs": [
    {
     "data": {
      "text/plain": [
       "<p>1.requests : 웹 페이지의 HTML을 가져오는 역할</p>"
      ]
     },
     "execution_count": 11,
     "metadata": {},
     "output_type": "execute_result"
    }
   ],
   "source": [
    "# title.text\n",
    "# heading1.text\n",
    "paragraph"
   ]
  },
  {
   "cell_type": "code",
   "execution_count": 15,
   "metadata": {},
   "outputs": [
    {
     "data": {
      "text/plain": [
       "[<p>1.requests : 웹 페이지의 HTML을 가져오는 역할</p>,\n",
       " <p>2.Beautifulsoup : HTML 문서 파싱을 도와준다.</p>,\n",
       " <p>3.원하는 요소를 선택한다.</p>]"
      ]
     },
     "execution_count": 15,
     "metadata": {},
     "output_type": "execute_result"
    }
   ],
   "source": [
    "paragraph_all = soup.find_all('p')\n",
    "paragraph_all"
   ]
  },
  {
   "cell_type": "code",
   "execution_count": 17,
   "metadata": {},
   "outputs": [
    {
     "name": "stdout",
     "output_type": "stream",
     "text": [
      "1.requests : 웹 페이지의 HTML을 가져오는 역할\n",
      "2.Beautifulsoup : HTML 문서 파싱을 도와준다.\n",
      "3.원하는 요소를 선택한다.\n"
     ]
    }
   ],
   "source": [
    "for p in paragraph_all:\n",
    "    print(p.text)"
   ]
  }
 ],
 "metadata": {
  "kernelspec": {
   "display_name": "python_basic",
   "language": "python",
   "name": "python3"
  },
  "language_info": {
   "codemirror_mode": {
    "name": "ipython",
    "version": 3
   },
   "file_extension": ".py",
   "mimetype": "text/x-python",
   "name": "python",
   "nbconvert_exporter": "python",
   "pygments_lexer": "ipython3",
   "version": "3.10.12"
  }
 },
 "nbformat": 4,
 "nbformat_minor": 2
}
