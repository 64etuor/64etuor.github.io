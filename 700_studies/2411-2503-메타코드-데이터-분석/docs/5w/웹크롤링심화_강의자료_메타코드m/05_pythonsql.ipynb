{
 "cells": [
  {
   "cell_type": "code",
   "execution_count": 3,
   "metadata": {},
   "outputs": [],
   "source": [
    "import mysql.connector\n",
    "from mysql.connector import Error\n",
    "from config import db_config\n",
    "\n",
    "def create_connection():\n",
    "    try:\n",
    "        connection = mysql.connector.connect(**db_config.DATABASE_CONFIG)\n",
    "        if connection.is_connected():\n",
    "            print('연결 성공')\n",
    "            return connection\n",
    "    \n",
    "    except Error as e:\n",
    "        print(f\"에러 발생: {e}\")\n",
    "        return None"
   ]
  },
  {
   "cell_type": "code",
   "execution_count": 5,
   "metadata": {},
   "outputs": [
    {
     "name": "stdout",
     "output_type": "stream",
     "text": [
      "연결 성공\n"
     ]
    }
   ],
   "source": [
    "connection = create_connection()\n",
    "# connection.close()"
   ]
  },
  {
   "cell_type": "code",
   "execution_count": 3,
   "metadata": {},
   "outputs": [
    {
     "data": {
      "text/plain": [
       "<mysql.connector.connection_cext.CMySQLConnection at 0x103bcc760>"
      ]
     },
     "execution_count": 3,
     "metadata": {},
     "output_type": "execute_result"
    }
   ],
   "source": [
    "connection"
   ]
  },
  {
   "cell_type": "code",
   "execution_count": 4,
   "metadata": {},
   "outputs": [],
   "source": [
    "cursor = connection.cursor()"
   ]
  },
  {
   "cell_type": "code",
   "execution_count": 5,
   "metadata": {},
   "outputs": [
    {
     "data": {
      "text/plain": [
       "<mysql.connector.cursor_cext.CMySQLCursor at 0x103bcd2a0>"
      ]
     },
     "execution_count": 5,
     "metadata": {},
     "output_type": "execute_result"
    }
   ],
   "source": [
    "cursor"
   ]
  },
  {
   "cell_type": "code",
   "execution_count": 6,
   "metadata": {},
   "outputs": [],
   "source": [
    "query = \"\"\"\n",
    "SELECT * FROM test\n",
    "\"\"\""
   ]
  },
  {
   "cell_type": "code",
   "execution_count": 7,
   "metadata": {},
   "outputs": [],
   "source": [
    "cursor.execute(query)"
   ]
  },
  {
   "cell_type": "code",
   "execution_count": 8,
   "metadata": {},
   "outputs": [
    {
     "data": {
      "text/plain": [
       "[('D', 'GMP', 'Y', '06', 0, 2656, 20240831, 'D'),\n",
       " ('A', 'GMP', 'N', '07', 0, 173, 20240831, 'D'),\n",
       " ('D', 'GMP', 'Y', '07', 0, 2258, 20240831, 'D'),\n",
       " ('D', 'GMP', 'N', '07', 0, 315, 20240831, 'I'),\n",
       " ('A', 'GMP', 'N', '08', 0, 914, 20240831, 'D'),\n",
       " ('D', 'GMP', 'N', '08', 0, 1434, 20240831, 'D'),\n",
       " ('D', 'GMP', 'N', '08', 0, 601, 20240831, 'I'),\n",
       " ('A', 'GMP', 'Y', '09', 0, 2128, 20240831, 'D'),\n",
       " ('D', 'GMP', 'N', '09', 0, 1795, 20240831, 'D'),\n",
       " ('D', 'GMP', 'N', '09', 0, 415, 20240831, 'I')]"
      ]
     },
     "execution_count": 8,
     "metadata": {},
     "output_type": "execute_result"
    }
   ],
   "source": [
    "result = cursor.fetchall()\n",
    "result"
   ]
  },
  {
   "cell_type": "code",
   "execution_count": 9,
   "metadata": {},
   "outputs": [
    {
     "data": {
      "text/plain": [
       "[('aod', 252, None, None, None, None, 1, 16, 255),\n",
       " ('arp', 252, None, None, None, None, 1, 16, 255),\n",
       " ('congestyn', 252, None, None, None, None, 1, 16, 255),\n",
       " ('hh', 252, None, None, None, None, 1, 16, 255),\n",
       " ('pcg', 3, None, None, None, None, 1, 32768, 63),\n",
       " ('pct', 3, None, None, None, None, 1, 32768, 63),\n",
       " ('sdt', 3, None, None, None, None, 1, 32768, 63),\n",
       " ('tof', 252, None, None, None, None, 1, 16, 255)]"
      ]
     },
     "execution_count": 9,
     "metadata": {},
     "output_type": "execute_result"
    }
   ],
   "source": [
    "cursor.description"
   ]
  },
  {
   "cell_type": "code",
   "execution_count": 10,
   "metadata": {},
   "outputs": [
    {
     "data": {
      "text/plain": [
       "['aod', 'arp', 'congestyn', 'hh', 'pcg', 'pct', 'sdt', 'tof']"
      ]
     },
     "execution_count": 10,
     "metadata": {},
     "output_type": "execute_result"
    }
   ],
   "source": [
    "columns = [desc[0] for desc in cursor.description]\n",
    "columns"
   ]
  },
  {
   "cell_type": "code",
   "execution_count": 11,
   "metadata": {},
   "outputs": [
    {
     "data": {
      "text/html": [
       "<div>\n",
       "<style scoped>\n",
       "    .dataframe tbody tr th:only-of-type {\n",
       "        vertical-align: middle;\n",
       "    }\n",
       "\n",
       "    .dataframe tbody tr th {\n",
       "        vertical-align: top;\n",
       "    }\n",
       "\n",
       "    .dataframe thead th {\n",
       "        text-align: right;\n",
       "    }\n",
       "</style>\n",
       "<table border=\"1\" class=\"dataframe\">\n",
       "  <thead>\n",
       "    <tr style=\"text-align: right;\">\n",
       "      <th></th>\n",
       "      <th>aod</th>\n",
       "      <th>arp</th>\n",
       "      <th>congestyn</th>\n",
       "      <th>hh</th>\n",
       "      <th>pcg</th>\n",
       "      <th>pct</th>\n",
       "      <th>sdt</th>\n",
       "      <th>tof</th>\n",
       "    </tr>\n",
       "  </thead>\n",
       "  <tbody>\n",
       "    <tr>\n",
       "      <th>0</th>\n",
       "      <td>D</td>\n",
       "      <td>GMP</td>\n",
       "      <td>Y</td>\n",
       "      <td>06</td>\n",
       "      <td>0</td>\n",
       "      <td>2656</td>\n",
       "      <td>20240831</td>\n",
       "      <td>D</td>\n",
       "    </tr>\n",
       "    <tr>\n",
       "      <th>1</th>\n",
       "      <td>A</td>\n",
       "      <td>GMP</td>\n",
       "      <td>N</td>\n",
       "      <td>07</td>\n",
       "      <td>0</td>\n",
       "      <td>173</td>\n",
       "      <td>20240831</td>\n",
       "      <td>D</td>\n",
       "    </tr>\n",
       "    <tr>\n",
       "      <th>2</th>\n",
       "      <td>D</td>\n",
       "      <td>GMP</td>\n",
       "      <td>Y</td>\n",
       "      <td>07</td>\n",
       "      <td>0</td>\n",
       "      <td>2258</td>\n",
       "      <td>20240831</td>\n",
       "      <td>D</td>\n",
       "    </tr>\n",
       "    <tr>\n",
       "      <th>3</th>\n",
       "      <td>D</td>\n",
       "      <td>GMP</td>\n",
       "      <td>N</td>\n",
       "      <td>07</td>\n",
       "      <td>0</td>\n",
       "      <td>315</td>\n",
       "      <td>20240831</td>\n",
       "      <td>I</td>\n",
       "    </tr>\n",
       "    <tr>\n",
       "      <th>4</th>\n",
       "      <td>A</td>\n",
       "      <td>GMP</td>\n",
       "      <td>N</td>\n",
       "      <td>08</td>\n",
       "      <td>0</td>\n",
       "      <td>914</td>\n",
       "      <td>20240831</td>\n",
       "      <td>D</td>\n",
       "    </tr>\n",
       "    <tr>\n",
       "      <th>5</th>\n",
       "      <td>D</td>\n",
       "      <td>GMP</td>\n",
       "      <td>N</td>\n",
       "      <td>08</td>\n",
       "      <td>0</td>\n",
       "      <td>1434</td>\n",
       "      <td>20240831</td>\n",
       "      <td>D</td>\n",
       "    </tr>\n",
       "    <tr>\n",
       "      <th>6</th>\n",
       "      <td>D</td>\n",
       "      <td>GMP</td>\n",
       "      <td>N</td>\n",
       "      <td>08</td>\n",
       "      <td>0</td>\n",
       "      <td>601</td>\n",
       "      <td>20240831</td>\n",
       "      <td>I</td>\n",
       "    </tr>\n",
       "    <tr>\n",
       "      <th>7</th>\n",
       "      <td>A</td>\n",
       "      <td>GMP</td>\n",
       "      <td>Y</td>\n",
       "      <td>09</td>\n",
       "      <td>0</td>\n",
       "      <td>2128</td>\n",
       "      <td>20240831</td>\n",
       "      <td>D</td>\n",
       "    </tr>\n",
       "    <tr>\n",
       "      <th>8</th>\n",
       "      <td>D</td>\n",
       "      <td>GMP</td>\n",
       "      <td>N</td>\n",
       "      <td>09</td>\n",
       "      <td>0</td>\n",
       "      <td>1795</td>\n",
       "      <td>20240831</td>\n",
       "      <td>D</td>\n",
       "    </tr>\n",
       "    <tr>\n",
       "      <th>9</th>\n",
       "      <td>D</td>\n",
       "      <td>GMP</td>\n",
       "      <td>N</td>\n",
       "      <td>09</td>\n",
       "      <td>0</td>\n",
       "      <td>415</td>\n",
       "      <td>20240831</td>\n",
       "      <td>I</td>\n",
       "    </tr>\n",
       "  </tbody>\n",
       "</table>\n",
       "</div>"
      ],
      "text/plain": [
       "  aod  arp congestyn  hh  pcg   pct       sdt tof\n",
       "0   D  GMP         Y  06    0  2656  20240831   D\n",
       "1   A  GMP         N  07    0   173  20240831   D\n",
       "2   D  GMP         Y  07    0  2258  20240831   D\n",
       "3   D  GMP         N  07    0   315  20240831   I\n",
       "4   A  GMP         N  08    0   914  20240831   D\n",
       "5   D  GMP         N  08    0  1434  20240831   D\n",
       "6   D  GMP         N  08    0   601  20240831   I\n",
       "7   A  GMP         Y  09    0  2128  20240831   D\n",
       "8   D  GMP         N  09    0  1795  20240831   D\n",
       "9   D  GMP         N  09    0   415  20240831   I"
      ]
     },
     "execution_count": 11,
     "metadata": {},
     "output_type": "execute_result"
    }
   ],
   "source": [
    "import pandas as pd\n",
    "\n",
    "df = pd.DataFrame(result, columns=columns)\n",
    "df"
   ]
  },
  {
   "cell_type": "code",
   "execution_count": null,
   "metadata": {},
   "outputs": [],
   "source": []
  }
 ],
 "metadata": {
  "kernelspec": {
   "display_name": "crawling_apidb",
   "language": "python",
   "name": "python3"
  },
  "language_info": {
   "codemirror_mode": {
    "name": "ipython",
    "version": 3
   },
   "file_extension": ".py",
   "mimetype": "text/x-python",
   "name": "python",
   "nbconvert_exporter": "python",
   "pygments_lexer": "ipython3",
   "version": "3.10.12"
  }
 },
 "nbformat": 4,
 "nbformat_minor": 2
}
