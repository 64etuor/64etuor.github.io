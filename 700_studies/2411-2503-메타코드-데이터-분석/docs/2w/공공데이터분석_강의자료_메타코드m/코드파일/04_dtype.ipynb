{
 "cells": [
  {
   "cell_type": "code",
   "execution_count": 1,
   "metadata": {},
   "outputs": [],
   "source": [
    "# 1. 변수는 항상 왼쪽에 온다.\n",
    "# 2. = 기호를 사용해서 변수에 값을 할당한다.\n",
    "\n",
    "number = 10\n",
    "korean = \"안녕하세요?\"\n",
    "mylist = [1, 2, 3, \"가\", 11, -20]"
   ]
  },
  {
   "cell_type": "code",
   "execution_count": 3,
   "metadata": {},
   "outputs": [
    {
     "ename": "NameError",
     "evalue": "name '안녕하세요' is not defined",
     "output_type": "error",
     "traceback": [
      "\u001b[0;31m---------------------------------------------------------------------------\u001b[0m",
      "\u001b[0;31mNameError\u001b[0m                                 Traceback (most recent call last)",
      "Cell \u001b[0;32mIn[3], line 1\u001b[0m\n\u001b[0;32m----> 1\u001b[0m \u001b[38;5;28mprint\u001b[39m(\u001b[43m안녕하세요\u001b[49m)\n",
      "\u001b[0;31mNameError\u001b[0m: name '안녕하세요' is not defined"
     ]
    }
   ],
   "source": [
    "print(\"abc\")"
   ]
  },
  {
   "cell_type": "code",
   "execution_count": 4,
   "metadata": {},
   "outputs": [
    {
     "name": "stdout",
     "output_type": "stream",
     "text": [
      "덧셈 결과: 15\n",
      "뺄셈 결과: 5\n",
      "곱셈 결과: 50\n",
      "나눗셈 결과: 2.0\n"
     ]
    }
   ],
   "source": [
    "num1 = 10\n",
    "num2 = 5\n",
    "\n",
    "add_result = num1 + num2\n",
    "sub_result = num1 - num2\n",
    "mul_result = num1 * num2\n",
    "div_result = num1 / num2\n",
    "\n",
    "print(\"덧셈 결과:\", add_result)\n",
    "print(\"뺄셈 결과:\", sub_result)\n",
    "print(\"곱셈 결과:\", mul_result)\n",
    "print(\"나눗셈 결과:\", div_result)"
   ]
  },
  {
   "cell_type": "code",
   "execution_count": 9,
   "metadata": {},
   "outputs": [
    {
     "name": "stdout",
     "output_type": "stream",
     "text": [
      "정수 타입 변수:  <class 'int'>\n",
      "부동소수점 타입 변수:  <class 'float'>\n"
     ]
    }
   ],
   "source": [
    "# 숫자\n",
    "integer_num = 10\n",
    "float_num = 3.14\n",
    "\n",
    "print(\"정수 타입 변수: \", type(integer_num))\n",
    "print(\"부동소수점 타입 변수: \", type(float_num))"
   ]
  },
  {
   "cell_type": "code",
   "execution_count": 12,
   "metadata": {},
   "outputs": [
    {
     "name": "stdout",
     "output_type": "stream",
     "text": [
      "문자열 타입 변수:  <class 'str'>\n"
     ]
    }
   ],
   "source": [
    "# 문자열 타입 예제\n",
    "string_variable = \"Hello, Python!\"\n",
    "print(\"문자열 타입 변수: \", type(string_variable))"
   ]
  },
  {
   "cell_type": "code",
   "execution_count": 13,
   "metadata": {},
   "outputs": [],
   "source": [
    "# 리스트\n",
    "mylist = [1, 2, 3, \"가\", 11, -20, 1]\n",
    "\n",
    "# 튜플(Tuple):(1, 2) , (10, 20)\n",
    "# 세트(Set) : 집합. 중복X, 순서X. {}\n",
    "# 딕셔너리(Dictionary) : {} {'name':'Kim', 'phone': '010-0000-0000'}"
   ]
  },
  {
   "cell_type": "code",
   "execution_count": 15,
   "metadata": {},
   "outputs": [
    {
     "name": "stdout",
     "output_type": "stream",
     "text": [
      "<class 'int'>\n",
      "<class 'float'>\n"
     ]
    }
   ],
   "source": [
    "print(type(1))\n",
    "print(type(1.0))"
   ]
  },
  {
   "cell_type": "code",
   "execution_count": 16,
   "metadata": {},
   "outputs": [
    {
     "name": "stdout",
     "output_type": "stream",
     "text": [
      "<class 'int'>\n",
      "<class 'str'>\n"
     ]
    }
   ],
   "source": [
    "print(type(1))\n",
    "print(type(\"1\"))"
   ]
  },
  {
   "cell_type": "code",
   "execution_count": null,
   "metadata": {},
   "outputs": [],
   "source": []
  }
 ],
 "metadata": {
  "kernelspec": {
   "display_name": "Python 3",
   "language": "python",
   "name": "python3"
  },
  "language_info": {
   "codemirror_mode": {
    "name": "ipython",
    "version": 3
   },
   "file_extension": ".py",
   "mimetype": "text/x-python",
   "name": "python",
   "nbconvert_exporter": "python",
   "pygments_lexer": "ipython3",
   "version": "3.10.12"
  }
 },
 "nbformat": 4,
 "nbformat_minor": 2
}
