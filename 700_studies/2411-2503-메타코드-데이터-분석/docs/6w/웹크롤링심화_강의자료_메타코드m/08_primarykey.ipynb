{
 "cells": [
  {
   "cell_type": "markdown",
   "metadata": {},
   "source": [
    "### Primary Key란?\n",
    "\n",
    "- Primary Key = 기본 키. 데이터베이스 테이블에서 각 행을 고유하게 식별하는 열(column)  \n",
    "- 테이블 내에서 유일한 값을 가져야 함. 같은 Primary Key 값을 가진 두 개 이상의 레코드는 존재할 수 없다!  \n",
    "- NULL 값을 허용하지 않음. 즉, Primary Key는 반드시 값이 존재해야 함.  \n",
    "- 기본 키 설정을 하면 데이터베이스에서 중복된 데이터 삽입 방지 가능  "
   ]
  },
  {
   "cell_type": "markdown",
   "metadata": {},
   "source": [
    "ALTER TABLE AIRPORT.DAILY_PSG  \n",
    "ADD COLUMN id INT AUTO_INCREMENT PRIMARY KEY FIRST;"
   ]
  },
  {
   "cell_type": "markdown",
   "metadata": {
    "vscode": {
     "languageId": "plaintext"
    }
   },
   "source": [
    "ALTER TABLE AIRPORT.DAILY_PSG  \n",
    "DROP COLUMN id;"
   ]
  },
  {
   "cell_type": "markdown",
   "metadata": {},
   "source": [
    "TRUNCATE TABLE AIRPORT.DAILY_PSG;"
   ]
  },
  {
   "cell_type": "markdown",
   "metadata": {},
   "source": [
    "### 복합 Primary Key 유의사항\n",
    "\n",
    "- 여러 열의 조합으로 고유성을 보장하는 방식\n",
    "- 모든 열의 조합이 유일해야 테이블에서 각 행이 고유해진다는 점에 유의\n",
    "- 각 열은 단독으로는 고유하지 않더라도, 조합된 값이 고유해야 함\n",
    "- Primary Key는 여전히 1개이지만, 그 Primary Key가 여러 컬럼을 조합한 복합적인 형태로 구성된다는 뜻\n",
    "- 복합 Primary Key는 여러 열을 조합하기 때문에, 각 열의 값이 서로 다른 경우에도 중복으로 인식되지 않음 : 잘못된 열을 복합 Primary Key로 설정하지 않도록 주의\n",
    "- 여러 열로 Primary Key를 설정하면 검색 시 성능이 저하될 수 있으므로, 필요한 경우 적절한 인덱스를 추가"
   ]
  },
  {
   "cell_type": "markdown",
   "metadata": {},
   "source": [
    "ALTER TABLE AIRPORT.DAILY_PSG  \n",
    "ADD PRIMARY KEY (ARR_OR_DEP, AIRPORT_NAME, YYYYMMDD, HH_HOUR, TYPE_OF_FLIGHT);"
   ]
  }
 ],
 "metadata": {
  "language_info": {
   "name": "python"
  }
 },
 "nbformat": 4,
 "nbformat_minor": 2
}
