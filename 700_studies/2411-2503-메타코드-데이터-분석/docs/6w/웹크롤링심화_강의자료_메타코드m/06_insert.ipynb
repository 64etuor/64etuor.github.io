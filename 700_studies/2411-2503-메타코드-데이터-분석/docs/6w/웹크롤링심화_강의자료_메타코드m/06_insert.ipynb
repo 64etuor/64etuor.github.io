{
 "cells": [
  {
   "cell_type": "markdown",
   "metadata": {},
   "source": [
    "### %s : 파이썬에서 문자열 포맷팅을 하기 위한 구문, SQL 쿼리에도 사용 가능  \n",
    "\n",
    "### sql 쿼리에서는?\n",
    "\n",
    "INSERT INTO AIRPORT.DAILY_PSG  \n",
    "(ARR_OR_DEP)  \n",
    "VALUES  \n",
    "(%s)  <- ARR_OR_DEP에 들어갈 값을 나중에 채워넣을 자리  \n",
    "\n",
    "### python 코드에서는?\n",
    "cursor.execute(\"INSERT INTO AIRPORT.DAILY_PSG (ARR_OR_DEP) VALUES (%s)\", (\"A\",))"
   ]
  },
  {
   "cell_type": "code",
   "execution_count": 1,
   "metadata": {},
   "outputs": [],
   "source": [
    "import mysql.connector\n",
    "from mysql.connector import Error\n",
    "from config import db_config\n",
    "\n",
    "def create_connection():\n",
    "    try:\n",
    "        connection = mysql.connector.connect(**db_config.DATABASE_CONFIG)\n",
    "        if connection.is_connected():\n",
    "            print('연결 성공')\n",
    "            return connection\n",
    "    \n",
    "    except Error as e:\n",
    "        print(f\"에러 발생: {e}\")\n",
    "        return None"
   ]
  },
  {
   "cell_type": "code",
   "execution_count": 2,
   "metadata": {},
   "outputs": [
    {
     "name": "stdout",
     "output_type": "stream",
     "text": [
      "연결 성공\n"
     ]
    }
   ],
   "source": [
    "connection = create_connection()\n",
    "cursor = connection.cursor()"
   ]
  },
  {
   "cell_type": "code",
   "execution_count": 4,
   "metadata": {},
   "outputs": [],
   "source": [
    "insert_query = \"\"\"\n",
    "INSERT INTO AIRPORT.DAILY_PSG\n",
    "(ARR_OR_DEP, AIRPORT_NAME, YYYYMMDD, HH_HOUR, PASSENGER_AMT, PASSENGER_TEAM_AMT, TYPE_OF_FLIGHT, CONGETST_YN)\n",
    "VALUES\n",
    "(%s, %s, %s, %s, %s, %s, %s, %s)\n",
    "\"\"\""
   ]
  },
  {
   "cell_type": "code",
   "execution_count": 7,
   "metadata": {},
   "outputs": [],
   "source": [
    "data = (\n",
    "    'D',\n",
    "    'GMP',\n",
    "    '20240000',\n",
    "    '06',\n",
    "    '0',\n",
    "    '2656',\n",
    "    'Y',\n",
    "    'D'\n",
    ")"
   ]
  },
  {
   "cell_type": "code",
   "execution_count": 8,
   "metadata": {},
   "outputs": [],
   "source": [
    "cursor.execute(insert_query, data)"
   ]
  },
  {
   "cell_type": "code",
   "execution_count": 9,
   "metadata": {},
   "outputs": [],
   "source": [
    "connection.commit()"
   ]
  },
  {
   "cell_type": "code",
   "execution_count": 10,
   "metadata": {},
   "outputs": [
    {
     "name": "stdout",
     "output_type": "stream",
     "text": [
      "1 row inserted.\n"
     ]
    }
   ],
   "source": [
    "print(f\"{cursor.rowcount} row inserted.\")"
   ]
  },
  {
   "cell_type": "code",
   "execution_count": 13,
   "metadata": {},
   "outputs": [],
   "source": [
    "# %(변수명)s\n",
    "insert_query_withvalues = \"\"\"\n",
    "INSERT INTO AIRPORT.DAILY_PSG\n",
    "(ARR_OR_DEP, AIRPORT_NAME, YYYYMMDD, HH_HOUR, PASSENGER_AMT, PASSENGER_TEAM_AMT, TYPE_OF_FLIGHT, CONGETST_YN)\n",
    "VALUES\n",
    "(%(ARR_OR_DEP)s, %(AIRPORT_NAME)s, %(YYYYMMDD)s, %(HH_HOUR)s, %(PASSENGER_AMT)s, %(PASSENGER_TEAM_AMT)s, %(TYPE_OF_FLIGHT)s, %(CONGETST_YN)s)\n",
    "\"\"\""
   ]
  },
  {
   "cell_type": "code",
   "execution_count": 14,
   "metadata": {},
   "outputs": [],
   "source": [
    "data_withvalues = {\n",
    "    'ARR_OR_DEP' : 'D',\n",
    "    'AIRPORT_NAME' : 'GMP',\n",
    "    'YYYYMMDD' : '20240000',\n",
    "    'HH_HOUR' : '07',\n",
    "    'PASSENGER_AMT' : '0',\n",
    "    'PASSENGER_TEAM_AMT' : '2656',\n",
    "    'CONGETST_YN' : 'Y',\n",
    "    'TYPE_OF_FLIGHT' : 'D'\n",
    "}"
   ]
  },
  {
   "cell_type": "code",
   "execution_count": 15,
   "metadata": {},
   "outputs": [],
   "source": [
    "cursor.execute(insert_query_withvalues, data_withvalues)"
   ]
  },
  {
   "cell_type": "code",
   "execution_count": 16,
   "metadata": {},
   "outputs": [],
   "source": [
    "connection.commit()"
   ]
  },
  {
   "cell_type": "code",
   "execution_count": 17,
   "metadata": {},
   "outputs": [
    {
     "name": "stdout",
     "output_type": "stream",
     "text": [
      "1 row inserted.\n"
     ]
    }
   ],
   "source": [
    "print(f\"{cursor.rowcount} row inserted.\")"
   ]
  },
  {
   "cell_type": "code",
   "execution_count": 18,
   "metadata": {},
   "outputs": [],
   "source": [
    "import requests\n",
    "from bs4 import BeautifulSoup\n",
    "from config import ENCODING_KEY, DECODING_KEY"
   ]
  },
  {
   "cell_type": "code",
   "execution_count": 20,
   "metadata": {},
   "outputs": [
    {
     "name": "stderr",
     "output_type": "stream",
     "text": [
      "/opt/homebrew/anaconda3/envs/crawling_apidb/lib/python3.10/html/parser.py:170: XMLParsedAsHTMLWarning: It looks like you're parsing an XML document using an HTML parser. If this really is an HTML document (maybe it's XHTML?), you can ignore or filter this warning. If it's XML, you should know that using an XML parser will be more reliable. To parse this document as XML, make sure you have the lxml package installed, and pass the keyword argument `features=\"xml\"` into the BeautifulSoup constructor.\n",
      "  k = self.parse_starttag(i)\n"
     ]
    }
   ],
   "source": [
    "url = 'http://openapi.airport.co.kr/service/rest/dailyExpectPassenger/dailyExpectPassenger'\n",
    "params ={'serviceKey' : DECODING_KEY, 'schDate' : '20240831', 'schAirport' : 'GMP'}\n",
    "\n",
    "response = requests.get(url, params=params)\n",
    "xml_content = response.content\n",
    "\n",
    "# BeautifulSoup을 사용해서 XML 파싱\n",
    "soup = BeautifulSoup(xml_content, 'html')\n",
    "\n",
    "# items 내의 모든 item 요소들을 찾기\n",
    "items = soup.find_all('item')\n",
    "\n",
    "datas = []\n",
    "\n",
    "for item in items:\n",
    "    item_data = {data.name : data.text for data in item.find_all()}\n",
    "    datas.append(item_data)"
   ]
  },
  {
   "cell_type": "code",
   "execution_count": 21,
   "metadata": {},
   "outputs": [
    {
     "data": {
      "text/plain": [
       "[{'aod': 'D',\n",
       "  'arp': 'GMP',\n",
       "  'congestyn': 'Y',\n",
       "  'hh': '06',\n",
       "  'pcg': '0',\n",
       "  'pct': '2656',\n",
       "  'sdt': '20240831',\n",
       "  'tof': 'D'},\n",
       " {'aod': 'A',\n",
       "  'arp': 'GMP',\n",
       "  'congestyn': 'N',\n",
       "  'hh': '07',\n",
       "  'pcg': '0',\n",
       "  'pct': '173',\n",
       "  'sdt': '20240831',\n",
       "  'tof': 'D'},\n",
       " {'aod': 'D',\n",
       "  'arp': 'GMP',\n",
       "  'congestyn': 'Y',\n",
       "  'hh': '07',\n",
       "  'pcg': '0',\n",
       "  'pct': '2258',\n",
       "  'sdt': '20240831',\n",
       "  'tof': 'D'},\n",
       " {'aod': 'D',\n",
       "  'arp': 'GMP',\n",
       "  'congestyn': 'N',\n",
       "  'hh': '07',\n",
       "  'pcg': '0',\n",
       "  'pct': '315',\n",
       "  'sdt': '20240831',\n",
       "  'tof': 'I'},\n",
       " {'aod': 'A',\n",
       "  'arp': 'GMP',\n",
       "  'congestyn': 'N',\n",
       "  'hh': '08',\n",
       "  'pcg': '0',\n",
       "  'pct': '914',\n",
       "  'sdt': '20240831',\n",
       "  'tof': 'D'},\n",
       " {'aod': 'D',\n",
       "  'arp': 'GMP',\n",
       "  'congestyn': 'N',\n",
       "  'hh': '08',\n",
       "  'pcg': '0',\n",
       "  'pct': '1434',\n",
       "  'sdt': '20240831',\n",
       "  'tof': 'D'},\n",
       " {'aod': 'D',\n",
       "  'arp': 'GMP',\n",
       "  'congestyn': 'N',\n",
       "  'hh': '08',\n",
       "  'pcg': '0',\n",
       "  'pct': '601',\n",
       "  'sdt': '20240831',\n",
       "  'tof': 'I'},\n",
       " {'aod': 'A',\n",
       "  'arp': 'GMP',\n",
       "  'congestyn': 'Y',\n",
       "  'hh': '09',\n",
       "  'pcg': '0',\n",
       "  'pct': '2128',\n",
       "  'sdt': '20240831',\n",
       "  'tof': 'D'},\n",
       " {'aod': 'D',\n",
       "  'arp': 'GMP',\n",
       "  'congestyn': 'N',\n",
       "  'hh': '09',\n",
       "  'pcg': '0',\n",
       "  'pct': '1795',\n",
       "  'sdt': '20240831',\n",
       "  'tof': 'D'},\n",
       " {'aod': 'D',\n",
       "  'arp': 'GMP',\n",
       "  'congestyn': 'N',\n",
       "  'hh': '09',\n",
       "  'pcg': '0',\n",
       "  'pct': '415',\n",
       "  'sdt': '20240831',\n",
       "  'tof': 'I'}]"
      ]
     },
     "execution_count": 21,
     "metadata": {},
     "output_type": "execute_result"
    }
   ],
   "source": [
    "datas"
   ]
  },
  {
   "cell_type": "code",
   "execution_count": 26,
   "metadata": {},
   "outputs": [],
   "source": [
    "def insert_data_fromlist(datas, connection) :\n",
    "    cursor = connection.cursor()\n",
    "\n",
    "    insert_query_withvalues = \"\"\"\n",
    "        INSERT INTO AIRPORT.DAILY_PSG\n",
    "        (ARR_OR_DEP, AIRPORT_NAME, YYYYMMDD, HH_HOUR, PASSENGER_AMT, PASSENGER_TEAM_AMT, TYPE_OF_FLIGHT, CONGETST_YN)\n",
    "        VALUES\n",
    "        (%(ARR_OR_DEP)s, %(AIRPORT_NAME)s, %(YYYYMMDD)s, %(HH_HOUR)s, %(PASSENGER_AMT)s, %(PASSENGER_TEAM_AMT)s, %(TYPE_OF_FLIGHT)s, %(CONGETST_YN)s)\n",
    "        \"\"\"\n",
    "    \n",
    "    for item in datas : \n",
    "        data_withvalues = {\n",
    "            'ARR_OR_DEP' : item['aod'],\n",
    "            'AIRPORT_NAME' : item['arp'],\n",
    "            'YYYYMMDD' : item['sdt'],\n",
    "            'HH_HOUR' : item['hh'],\n",
    "            'PASSENGER_AMT' : item['pct'],\n",
    "            'PASSENGER_TEAM_AMT' : item['pcg'],\n",
    "            'CONGETST_YN' : item['congestyn'],\n",
    "            'TYPE_OF_FLIGHT' : item['tof']\n",
    "        }\n",
    "        cursor.execute(insert_query_withvalues, data_withvalues)\n",
    "    \n",
    "    connection.commit()\n",
    "    connection.close()"
   ]
  },
  {
   "cell_type": "code",
   "execution_count": 27,
   "metadata": {},
   "outputs": [
    {
     "name": "stdout",
     "output_type": "stream",
     "text": [
      "연결 성공\n"
     ]
    }
   ],
   "source": [
    "connection = create_connection()\n",
    "insert_data_fromlist(datas, connection)"
   ]
  },
  {
   "cell_type": "code",
   "execution_count": null,
   "metadata": {},
   "outputs": [],
   "source": []
  }
 ],
 "metadata": {
  "kernelspec": {
   "display_name": "crawling_apidb",
   "language": "python",
   "name": "python3"
  },
  "language_info": {
   "codemirror_mode": {
    "name": "ipython",
    "version": 3
   },
   "file_extension": ".py",
   "mimetype": "text/x-python",
   "name": "python",
   "nbconvert_exporter": "python",
   "pygments_lexer": "ipython3",
   "version": "3.10.12"
  }
 },
 "nbformat": 4,
 "nbformat_minor": 2
}
