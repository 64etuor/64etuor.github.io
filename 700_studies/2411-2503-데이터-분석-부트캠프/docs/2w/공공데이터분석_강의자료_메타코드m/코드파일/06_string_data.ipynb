{
 "cells": [
  {
   "cell_type": "markdown",
   "metadata": {},
   "source": [
    "# 메서드 : 문자열 데이터 처리"
   ]
  },
  {
   "cell_type": "code",
   "execution_count": 1,
   "metadata": {},
   "outputs": [
    {
     "name": "stdout",
     "output_type": "stream",
     "text": [
      "apple, banana, kiwi\n",
      "['apple', ' banana', ' kiwi']\n"
     ]
    }
   ],
   "source": [
    "# 문자열 분리\n",
    "# split() : 구분자를 기준으로, 문자열을 분리\n",
    "original_string = \"apple, banana, kiwi\"\n",
    "split_list = original_string.split(\",\")\n",
    "\n",
    "print(original_string)\n",
    "print(split_list)"
   ]
  },
  {
   "cell_type": "code",
   "execution_count": 4,
   "metadata": {},
   "outputs": [
    {
     "name": "stdout",
     "output_type": "stream",
     "text": [
      " Python Progamming.  \n",
      "Python Progamming.\n"
     ]
    }
   ],
   "source": [
    "# strip() : 문자열 양 끝의 공백을 제거\n",
    "another_string = \" Python Progamming.  \"\n",
    "stripped_string = another_string.strip()\n",
    "\n",
    "print(another_string)\n",
    "print(stripped_string)"
   ]
  },
  {
   "cell_type": "code",
   "execution_count": 5,
   "metadata": {},
   "outputs": [
    {
     "name": "stdout",
     "output_type": "stream",
     "text": [
      "apple, banana, kiwi\n",
      "apple, banana, kiwi\n"
     ]
    }
   ],
   "source": [
    "original_string = \"apple, banana, kiwi\"\n",
    "stripped_string = original_string.strip()\n",
    "\n",
    "print(original_string)\n",
    "print(stripped_string)"
   ]
  },
  {
   "cell_type": "code",
   "execution_count": 12,
   "metadata": {},
   "outputs": [
    {
     "name": "stdout",
     "output_type": "stream",
     "text": [
      "['apple', ' banana', ' kiwi']\n"
     ]
    },
    {
     "data": {
      "text/plain": [
       "['apple', ' banana']"
      ]
     },
     "execution_count": 12,
     "metadata": {},
     "output_type": "execute_result"
    }
   ],
   "source": [
    "print(split_list)\n",
    "split_list[0:2] # 시작 index : 시작하려는 index, 끝 index : 끝까지 지정해주고 싶은 index +1"
   ]
  },
  {
   "cell_type": "code",
   "execution_count": 20,
   "metadata": {},
   "outputs": [
    {
     "name": "stdout",
     "output_type": "stream",
     "text": [
      "['apple', 'banana', 'kiwi']\n"
     ]
    }
   ],
   "source": [
    "new_list = []\n",
    "\n",
    "new_list.append(split_list[0].strip())\n",
    "new_list.append(split_list[1].strip())\n",
    "new_list.append(split_list[2].strip())\n",
    "\n",
    "print(new_list)"
   ]
  },
  {
   "cell_type": "code",
   "execution_count": 21,
   "metadata": {},
   "outputs": [
    {
     "name": "stdout",
     "output_type": "stream",
     "text": [
      "Hello, World!\n",
      "Hello, Python!\n"
     ]
    }
   ],
   "source": [
    "# replace\n",
    "original_string = \"Hello, World!\"\n",
    "replaced_string = original_string.replace(\"World\", \"Python\")\n",
    "\n",
    "print(original_string)\n",
    "print(replaced_string)"
   ]
  },
  {
   "cell_type": "code",
   "execution_count": 25,
   "metadata": {},
   "outputs": [
    {
     "data": {
      "text/plain": [
       "'apple,banana,kiwi'"
      ]
     },
     "execution_count": 25,
     "metadata": {},
     "output_type": "execute_result"
    }
   ],
   "source": [
    "original_string = \"apple, banana, kiwi\"\n",
    "replaced_string = original_string.replace(\" \",\"\")\n",
    "replaced_string\n",
    "# split_list = original_string.split(\",\")\n",
    "# split_list"
   ]
  },
  {
   "cell_type": "code",
   "execution_count": 27,
   "metadata": {},
   "outputs": [
    {
     "name": "stdout",
     "output_type": "stream",
     "text": [
      "HELLO, PYTHON!\n"
     ]
    }
   ],
   "source": [
    "# upper()\n",
    "original_string = \"hello, python!\"\n",
    "uppercase_string = original_string.upper()\n",
    "print(uppercase_string)"
   ]
  },
  {
   "cell_type": "code",
   "execution_count": 29,
   "metadata": {},
   "outputs": [
    {
     "name": "stdout",
     "output_type": "stream",
     "text": [
      "hello, python!\n"
     ]
    }
   ],
   "source": [
    "# lower()\n",
    "lowercase_string = uppercase_string.lower()\n",
    "print(lowercase_string)"
   ]
  },
  {
   "cell_type": "code",
   "execution_count": 30,
   "metadata": {},
   "outputs": [
    {
     "name": "stdout",
     "output_type": "stream",
     "text": [
      "Hello, python!\n"
     ]
    }
   ],
   "source": [
    "# capitalize()\n",
    "capitalized_string = lowercase_string.capitalize()\n",
    "print(capitalized_string)"
   ]
  },
  {
   "cell_type": "code",
   "execution_count": 31,
   "metadata": {},
   "outputs": [
    {
     "name": "stdout",
     "output_type": "stream",
     "text": [
      "Hello, Python!\n"
     ]
    }
   ],
   "source": [
    "# title\n",
    "title_string = capitalized_string.title()\n",
    "print(title_string)"
   ]
  }
 ],
 "metadata": {
  "kernelspec": {
   "display_name": "Python 3",
   "language": "python",
   "name": "python3"
  },
  "language_info": {
   "codemirror_mode": {
    "name": "ipython",
    "version": 3
   },
   "file_extension": ".py",
   "mimetype": "text/x-python",
   "name": "python",
   "nbconvert_exporter": "python",
   "pygments_lexer": "ipython3",
   "version": "3.10.12"
  }
 },
 "nbformat": 4,
 "nbformat_minor": 2
}
