{
 "cells": [
  {
   "cell_type": "markdown",
   "metadata": {},
   "source": [
    "### 반복문\n",
    "- for  \n",
    "- while  \n",
    "- enumerate  \n",
    "- list comprehension  \n",
    "### 조건문\n",
    "- if\n",
    "- elif\n",
    "- else  \n",
    "### 예외처리\n",
    "- try\n",
    "- except\n",
    "- finally"
   ]
  },
  {
   "cell_type": "code",
   "execution_count": 1,
   "metadata": {},
   "outputs": [
    {
     "data": {
      "text/plain": [
       "['apple', ' banana', ' kiwi']"
      ]
     },
     "execution_count": 1,
     "metadata": {},
     "output_type": "execute_result"
    }
   ],
   "source": [
    "original_string = \"apple, banana, kiwi\"\n",
    "split_list = original_string.split(\",\")\n",
    "split_list"
   ]
  },
  {
   "cell_type": "code",
   "execution_count": 3,
   "metadata": {},
   "outputs": [
    {
     "name": "stdout",
     "output_type": "stream",
     "text": [
      "['apple', 'banana', 'kiwi']\n"
     ]
    }
   ],
   "source": [
    "new_list1 = []\n",
    "new_list1.append(split_list[0].strip())\n",
    "new_list1.append(split_list[1].strip())\n",
    "new_list1.append(split_list[2].strip())\n",
    "print(new_list1)"
   ]
  },
  {
   "cell_type": "code",
   "execution_count": 5,
   "metadata": {},
   "outputs": [
    {
     "name": "stdout",
     "output_type": "stream",
     "text": [
      "['apple', 'banana', 'kiwi']\n"
     ]
    }
   ],
   "source": [
    "# for\n",
    "new_list2 = []\n",
    "for i in range(0,3):\n",
    "    new_list2.append(split_list[i].strip())\n",
    "print(new_list2)"
   ]
  },
  {
   "cell_type": "code",
   "execution_count": 8,
   "metadata": {},
   "outputs": [
    {
     "name": "stdout",
     "output_type": "stream",
     "text": [
      "0\n",
      "1\n",
      "2\n"
     ]
    }
   ],
   "source": [
    "for i in range(0,3):\n",
    "    print(i)"
   ]
  },
  {
   "cell_type": "code",
   "execution_count": 10,
   "metadata": {},
   "outputs": [
    {
     "name": "stdout",
     "output_type": "stream",
     "text": [
      "['apple', 'banana', 'kiwi']\n"
     ]
    }
   ],
   "source": [
    "# while \n",
    "new_list3 = []\n",
    "i = 0\n",
    "while i < 3:\n",
    "    new_list3.append(split_list[i].strip())\n",
    "    i = i + 1\n",
    "print(new_list3)"
   ]
  },
  {
   "cell_type": "code",
   "execution_count": 17,
   "metadata": {},
   "outputs": [
    {
     "name": "stdout",
     "output_type": "stream",
     "text": [
      "0\n",
      "1\n",
      "루프를 중단합니다.\n"
     ]
    }
   ],
   "source": [
    "i = 0\n",
    "while i < 5:\n",
    "    print(i)\n",
    "    i = i + 1\n",
    "\n",
    "    if i==2:\n",
    "        print(\"루프를 중단합니다.\")\n",
    "        break"
   ]
  },
  {
   "cell_type": "code",
   "execution_count": 26,
   "metadata": {},
   "outputs": [
    {
     "data": {
      "text/plain": [
       "['apple', 'banana', 'kiwi']"
      ]
     },
     "execution_count": 26,
     "metadata": {},
     "output_type": "execute_result"
    }
   ],
   "source": [
    "# enumerate\n",
    "# print(split_list)\n",
    "# print(list(enumerate(split_list)))\n",
    "new_list4 = []\n",
    "for index, value in enumerate(split_list) :\n",
    "    new_list4.append(value.strip())\n",
    "new_list4"
   ]
  },
  {
   "cell_type": "code",
   "execution_count": 29,
   "metadata": {},
   "outputs": [
    {
     "data": {
      "text/plain": [
       "['apple', 'banana', 'kiwi']"
      ]
     },
     "execution_count": 29,
     "metadata": {},
     "output_type": "execute_result"
    }
   ],
   "source": [
    "# list comprehension\n",
    "new_list5 = [fruit.strip() for fruit in split_list]\n",
    "new_list5"
   ]
  },
  {
   "cell_type": "code",
   "execution_count": 34,
   "metadata": {},
   "outputs": [
    {
     "name": "stdout",
     "output_type": "stream",
     "text": [
      "banana는 있습니다!\n"
     ]
    }
   ],
   "source": [
    "# 조건문 if , else\n",
    "new_list5\n",
    "if \"mango\" in new_list5 :\n",
    "    print(\"mango가 있습니다!\")\n",
    "elif \"banana\" in new_list5:\n",
    "    print(\"banana는 있습니다!\")\n",
    "else :\n",
    "    print(\"mango도 banana도 없습니다.\")"
   ]
  },
  {
   "cell_type": "code",
   "execution_count": 52,
   "metadata": {},
   "outputs": [
    {
     "name": "stdout",
     "output_type": "stream",
     "text": [
      "mango가 리스트에 있나요? False 입니다\n",
      "banana가 리스트에 있나요? True 입니다\n",
      "mango가 리스트에 있나요? False입니다\n",
      "mango가 리스트에 있나요?mango_false입니다\n",
      "banana가 리스트에 있나요? True 입니다\n"
     ]
    }
   ],
   "source": [
    "# Boolean 타입 : True(1), False(0)\n",
    "mango_false = \"mango\" in new_list5\n",
    "banana_true = \"banana\" in new_list5\n",
    "\n",
    "print(\"mango가 리스트에 있나요?\", mango_false, \"입니다\")\n",
    "print(\"banana가 리스트에 있나요?\", banana_true, \"입니다\")\n",
    "\n",
    "# f formatting : python 3.6 version.\n",
    "print(f\"mango가 리스트에 있나요? {mango_false}입니다\")\n",
    "print(f\"mango가 리스트에 있나요?mango_false입니다\")\n",
    "print(f\"banana가 리스트에 있나요? {banana_true} 입니다\")"
   ]
  },
  {
   "cell_type": "code",
   "execution_count": 53,
   "metadata": {},
   "outputs": [],
   "source": [
    "# try : 시도해보고자 하는 코드, 예외(에러)가 발생할 수 있는 코드\n",
    "# except : try 블록에서 예외가 발생할 경우 , 특정 에러 타입 지정 가능.\n",
    "# else : try 블록에서 예외가 발생하지 않은 경우\n",
    "# finally : 예외 발생 여부 관계 없이 실행하는 코드."
   ]
  },
  {
   "cell_type": "code",
   "execution_count": 58,
   "metadata": {},
   "outputs": [
    {
     "name": "stdout",
     "output_type": "stream",
     "text": [
      "['apple', 'banana', 'kiwi']\n",
      "'banana'의 인덱스는 1\n",
      "에러 없음\n",
      "코드 실행 완료\n"
     ]
    }
   ],
   "source": [
    "print(new_list5)\n",
    "try : \n",
    "    index_of_banana = new_list5.index(\"banana\")\n",
    "    print(f\"'banana'의 인덱스는 {index_of_banana}\")\n",
    "except ValueError:\n",
    "    print(\"banana가 리스트에 없음\")\n",
    "else :\n",
    "    print(\"에러 없음\")\n",
    "finally:\n",
    "    print(\"코드 실행 완료\")"
   ]
  },
  {
   "cell_type": "code",
   "execution_count": 60,
   "metadata": {},
   "outputs": [
    {
     "name": "stdout",
     "output_type": "stream",
     "text": [
      "['apple', 'banana', 'kiwi']\n",
      "mango가 리스트에 없음\n",
      "코드 실행 완료\n"
     ]
    }
   ],
   "source": [
    "print(new_list5)\n",
    "try : \n",
    "    index_of_mango = new_list5.index(\"mango\")\n",
    "    print(f\"'mango'의 인덱스는 {index_of_mango}\")\n",
    "except ValueError:\n",
    "    print(\"mango가 리스트에 없음\")\n",
    "else :\n",
    "    print(\"에러 없음\")\n",
    "finally:\n",
    "    print(\"코드 실행 완료\")"
   ]
  },
  {
   "cell_type": "code",
   "execution_count": 61,
   "metadata": {},
   "outputs": [],
   "source": [
    "def fruit_checker(fruit) :\n",
    "    try : \n",
    "        index_of_fruit = new_list5.index(f\"{fruit}\")\n",
    "        print(f\"'{fruit}'의 인덱스는 {index_of_fruit}\")\n",
    "    except ValueError:\n",
    "        print(f\"{fruit}가 리스트에 없음\")\n",
    "    else :\n",
    "        print(\"에러 없음\")\n",
    "    finally:\n",
    "        print(\"코드 실행 완료\")"
   ]
  },
  {
   "cell_type": "code",
   "execution_count": 65,
   "metadata": {},
   "outputs": [
    {
     "name": "stdout",
     "output_type": "stream",
     "text": [
      "mango가 리스트에 없음\n",
      "코드 실행 완료\n"
     ]
    }
   ],
   "source": [
    "fruit_checker(\"mango\")"
   ]
  },
  {
   "cell_type": "code",
   "execution_count": 66,
   "metadata": {},
   "outputs": [
    {
     "name": "stdout",
     "output_type": "stream",
     "text": [
      "'banana'의 인덱스는 1\n",
      "에러 없음\n",
      "코드 실행 완료\n"
     ]
    }
   ],
   "source": [
    "fruit_checker(\"banana\")"
   ]
  },
  {
   "cell_type": "markdown",
   "metadata": {},
   "source": []
  }
 ],
 "metadata": {
  "kernelspec": {
   "display_name": "Python 3",
   "language": "python",
   "name": "python3"
  },
  "language_info": {
   "codemirror_mode": {
    "name": "ipython",
    "version": 3
   },
   "file_extension": ".py",
   "mimetype": "text/x-python",
   "name": "python",
   "nbconvert_exporter": "python",
   "pygments_lexer": "ipython3",
   "version": "3.10.12"
  }
 },
 "nbformat": 4,
 "nbformat_minor": 2
}
