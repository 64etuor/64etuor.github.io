{
 "cells": [
  {
   "cell_type": "markdown",
   "metadata": {},
   "source": [
    "## kwargs와 언패킹\n",
    "- 키워드 인자(Keyword Arguments)\n",
    "    - 함수 호출 시 인자를 이름(키)과 값(value) 쌍으로 넘기는 방식\n",
    "    - 함수의 각 파라미터에 어떤 값이 들어가는지 명확하게 지정 가능\n",
    "    - 가독성이 좋아지고, 함수에 전달하는 인자의 순서를 지키지 않아도 되는 장점\n",
    "    - 위치 인자 대신 키워드 인자를 사용하는 것을 권장\n",
    "\n",
    "- 언패킹\n",
    "    - 데이터 구조(리스트, 튜플, 딕셔너리 등)에 담긴 요소들을 하나씩 꺼내어 변수에 할당하거나 함수에 인자로 전달하는 작업"
   ]
  },
  {
   "cell_type": "code",
   "execution_count": 1,
   "metadata": {},
   "outputs": [],
   "source": [
    "# 기본적인 함수\n",
    "def connect_to_db(host, user, password, database='testdb'):\n",
    "    print(f\"Connecting to {database} at {host} with {user}.\")"
   ]
  },
  {
   "cell_type": "code",
   "execution_count": 2,
   "metadata": {},
   "outputs": [
    {
     "name": "stdout",
     "output_type": "stream",
     "text": [
      "Connecting to AIRPORT at localhost with root.\n"
     ]
    }
   ],
   "source": [
    "# 위치 인자를 사용한 함수 호출\n",
    "connect_to_db('localhost', 'root','mypassword','AIRPORT')"
   ]
  },
  {
   "cell_type": "code",
   "execution_count": 3,
   "metadata": {},
   "outputs": [
    {
     "name": "stdout",
     "output_type": "stream",
     "text": [
      "Connecting to AIRPORT at root with localhost.\n"
     ]
    }
   ],
   "source": [
    "# 위치 인자를 사용한 함수 호출의 단점 : 위치 실수가 있다면 원치 않는 결과 출력\n",
    "connect_to_db('root', 'localhost', 'mypassword','AIRPORT')"
   ]
  },
  {
   "cell_type": "code",
   "execution_count": 4,
   "metadata": {},
   "outputs": [
    {
     "name": "stdout",
     "output_type": "stream",
     "text": [
      "Connecting to AIRPORT at localhost with root.\n"
     ]
    }
   ],
   "source": [
    "# 키워드 인자를 사용한 함수 호출\n",
    "connect_to_db(host='localhost', user='root', password='mypassword',database='AIRPORT')"
   ]
  },
  {
   "cell_type": "code",
   "execution_count": 5,
   "metadata": {},
   "outputs": [
    {
     "name": "stdout",
     "output_type": "stream",
     "text": [
      "Connecting to AIRPORT at localhost with root.\n"
     ]
    }
   ],
   "source": [
    "# 키워드 인자를 사용한 함수 호출 : 위치가 다르더라도 원하는 결과 출력\n",
    "connect_to_db(user='root', host='localhost', password='mypassword',database='AIRPORT')"
   ]
  },
  {
   "cell_type": "code",
   "execution_count": 7,
   "metadata": {},
   "outputs": [
    {
     "name": "stdout",
     "output_type": "stream",
     "text": [
      "Connecting to AIRPORT at localhost with root.\n"
     ]
    }
   ],
   "source": [
    "# 함수의 database = 기본값이 설정되어 있을 때, 값을 전달하면 전달한 값이 출력됨\n",
    "connect_to_db(user='root', host='localhost', password='mypassword',database='AIRPORT')"
   ]
  },
  {
   "cell_type": "code",
   "execution_count": 8,
   "metadata": {},
   "outputs": [
    {
     "name": "stdout",
     "output_type": "stream",
     "text": [
      "Connecting to testdb at localhost with root.\n"
     ]
    }
   ],
   "source": [
    "# 함수의 database = 기본값이 설정되어 있을 때, 값을 전달하지 않으면 기본값이 출력됨\n",
    "connect_to_db(user='root', host='localhost', password='mypassword')"
   ]
  },
  {
   "cell_type": "code",
   "execution_count": 9,
   "metadata": {},
   "outputs": [
    {
     "ename": "TypeError",
     "evalue": "connect_to_db() missing 1 required positional argument: 'user'",
     "output_type": "error",
     "traceback": [
      "\u001b[0;31m---------------------------------------------------------------------------\u001b[0m",
      "\u001b[0;31mTypeError\u001b[0m                                 Traceback (most recent call last)",
      "Cell \u001b[0;32mIn[9], line 1\u001b[0m\n\u001b[0;32m----> 1\u001b[0m \u001b[43mconnect_to_db\u001b[49m\u001b[43m(\u001b[49m\u001b[43mhost\u001b[49m\u001b[38;5;241;43m=\u001b[39;49m\u001b[38;5;124;43m'\u001b[39;49m\u001b[38;5;124;43mlocalhost\u001b[39;49m\u001b[38;5;124;43m'\u001b[39;49m\u001b[43m,\u001b[49m\u001b[43m \u001b[49m\u001b[43mpassword\u001b[49m\u001b[38;5;241;43m=\u001b[39;49m\u001b[38;5;124;43m'\u001b[39;49m\u001b[38;5;124;43mmypassword\u001b[39;49m\u001b[38;5;124;43m'\u001b[39;49m\u001b[43m)\u001b[49m\n",
      "\u001b[0;31mTypeError\u001b[0m: connect_to_db() missing 1 required positional argument: 'user'"
     ]
    }
   ],
   "source": [
    "# 함수의 database = 기본값이 설정되어 있지 않은 인자를 빠뜨렸을 때, 오류가 발생함\n",
    "connect_to_db(host='localhost', password='mypassword')"
   ]
  },
  {
   "cell_type": "code",
   "execution_count": 10,
   "metadata": {},
   "outputs": [],
   "source": [
    "# 몇 개의 인자를 전달받을지 알 수 없을 때, **kwargs 사용\n",
    "def connect_to_db_k(**kwargs):\n",
    "    host = kwargs.get('host', 'localhost')\n",
    "    user = kwargs.get('user', 'root')\n",
    "    password = kwargs.get('password', '')\n",
    "    database = kwargs.get('database', 'testdb')\n",
    "\n",
    "    print(f\"Connecting to '{database}' at '{host}' with '{user}' \")"
   ]
  },
  {
   "cell_type": "code",
   "execution_count": 11,
   "metadata": {},
   "outputs": [
    {
     "name": "stdout",
     "output_type": "stream",
     "text": [
      "Connecting to 'AIRPORT' at 'localhost' with 'root' \n"
     ]
    }
   ],
   "source": [
    "connect_to_db_k(host='localhost', user='root', password='mypassword',database='AIRPORT')"
   ]
  },
  {
   "cell_type": "code",
   "execution_count": 12,
   "metadata": {},
   "outputs": [
    {
     "name": "stdout",
     "output_type": "stream",
     "text": [
      "Connecting to 'testdb' at 'localhost' with 'root' \n"
     ]
    }
   ],
   "source": [
    "connect_to_db_k(host='localhost', user='root', password='mypassword')"
   ]
  },
  {
   "cell_type": "code",
   "execution_count": 14,
   "metadata": {},
   "outputs": [
    {
     "name": "stdout",
     "output_type": "stream",
     "text": [
      "['host', 'user', 'password', 'database']\n",
      "=====\n",
      "host user password database\n"
     ]
    }
   ],
   "source": [
    "# 언패킹\n",
    "DATABASE_CONFIG ={\n",
    "    'host' : '호스트이름',\n",
    "    'user' : '유저이름',\n",
    "    'password' : '비밀번호',\n",
    "    'database' : 'AIRPORT'\n",
    "}\n",
    "\n",
    "keys = list(DATABASE_CONFIG.keys())\n",
    "print(keys)\n",
    "print(\"=====\")\n",
    "\n",
    "hostkey, userkey, passwordkey, databasekey = keys\n",
    "print(hostkey, userkey, passwordkey, databasekey)"
   ]
  },
  {
   "cell_type": "code",
   "execution_count": 15,
   "metadata": {},
   "outputs": [
    {
     "name": "stdout",
     "output_type": "stream",
     "text": [
      "Connecting to AIRPORT at 호스트이름 with 유저이름.\n"
     ]
    }
   ],
   "source": [
    "# def connect_to_db(host, user, password, database='testdb'):\n",
    "#     print(f\"Connecting to {database} at {host} with {user}.\")\n",
    "\n",
    "DATABASE_CONFIG ={\n",
    "    'host' : '호스트이름',\n",
    "    'user' : '유저이름',\n",
    "    'password' : '비밀번호',\n",
    "    'database' : 'AIRPORT'\n",
    "}\n",
    "\n",
    "connect_to_db(**DATABASE_CONFIG)"
   ]
  },
  {
   "cell_type": "code",
   "execution_count": 16,
   "metadata": {},
   "outputs": [
    {
     "name": "stdout",
     "output_type": "stream",
     "text": [
      "Connecting to AIRPORT at 호스트이름 with 유저이름.\n"
     ]
    }
   ],
   "source": [
    "# connect_to_db(**DATABASE_CONFIG)와 완전히 동일한 뜻\n",
    "connect_to_db(host='호스트이름', user='유저이름', password='비밀번호',database= 'AIRPORT')"
   ]
  }
 ],
 "metadata": {
  "kernelspec": {
   "display_name": "crawling_apidb",
   "language": "python",
   "name": "python3"
  },
  "language_info": {
   "codemirror_mode": {
    "name": "ipython",
    "version": 3
   },
   "file_extension": ".py",
   "mimetype": "text/x-python",
   "name": "python",
   "nbconvert_exporter": "python",
   "pygments_lexer": "ipython3",
   "version": "3.10.12"
  }
 },
 "nbformat": 4,
 "nbformat_minor": 2
}
